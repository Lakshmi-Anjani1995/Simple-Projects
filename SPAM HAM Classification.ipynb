{
 "cells": [
  {
   "cell_type": "markdown",
   "metadata": {},
   "source": [
    "### In this data set we have been given a table having column SMS with message(text) data and column class with labels as Spam and Ham \n",
    "### Main task is to identify the text in the test data set is SPAM "
   ]
  },
  {
   "cell_type": "markdown",
   "metadata": {},
   "source": [
    "data for this data is with name SMSSpamcollection\n"
   ]
  },
  {
   "cell_type": "code",
   "execution_count": 1,
   "metadata": {},
   "outputs": [],
   "source": [
    "import numpy as np\n",
    "import pandas as pd\n",
    "import matplotlib.pyplot as plt "
   ]
  },
  {
   "cell_type": "code",
   "execution_count": 6,
   "metadata": {},
   "outputs": [
    {
     "data": {
      "text/html": [
       "<div>\n",
       "<style scoped>\n",
       "    .dataframe tbody tr th:only-of-type {\n",
       "        vertical-align: middle;\n",
       "    }\n",
       "\n",
       "    .dataframe tbody tr th {\n",
       "        vertical-align: top;\n",
       "    }\n",
       "\n",
       "    .dataframe thead th {\n",
       "        text-align: right;\n",
       "    }\n",
       "</style>\n",
       "<table border=\"1\" class=\"dataframe\">\n",
       "  <thead>\n",
       "    <tr style=\"text-align: right;\">\n",
       "      <th></th>\n",
       "      <th>Class</th>\n",
       "      <th>SMS</th>\n",
       "    </tr>\n",
       "  </thead>\n",
       "  <tbody>\n",
       "    <tr>\n",
       "      <th>0</th>\n",
       "      <td>ham</td>\n",
       "      <td>Go until jurong point, crazy.. Available only ...</td>\n",
       "    </tr>\n",
       "    <tr>\n",
       "      <th>1</th>\n",
       "      <td>ham</td>\n",
       "      <td>Ok lar... Joking wif u oni...</td>\n",
       "    </tr>\n",
       "    <tr>\n",
       "      <th>2</th>\n",
       "      <td>spam</td>\n",
       "      <td>Free entry in 2 a wkly comp to win FA Cup fina...</td>\n",
       "    </tr>\n",
       "    <tr>\n",
       "      <th>3</th>\n",
       "      <td>ham</td>\n",
       "      <td>U dun say so early hor... U c already then say...</td>\n",
       "    </tr>\n",
       "    <tr>\n",
       "      <th>4</th>\n",
       "      <td>ham</td>\n",
       "      <td>Nah I don't think he goes to usf, he lives aro...</td>\n",
       "    </tr>\n",
       "  </tbody>\n",
       "</table>\n",
       "</div>"
      ],
      "text/plain": [
       "  Class                                                SMS\n",
       "0   ham  Go until jurong point, crazy.. Available only ...\n",
       "1   ham                      Ok lar... Joking wif u oni...\n",
       "2  spam  Free entry in 2 a wkly comp to win FA Cup fina...\n",
       "3   ham  U dun say so early hor... U c already then say...\n",
       "4   ham  Nah I don't think he goes to usf, he lives aro..."
      ]
     },
     "execution_count": 6,
     "metadata": {},
     "output_type": "execute_result"
    }
   ],
   "source": [
    "data = pd.read_table('SMSSpamCollection',header=None,names=['Class','SMS'])\n",
    "data.head()"
   ]
  },
  {
   "cell_type": "code",
   "execution_count": 7,
   "metadata": {},
   "outputs": [
    {
     "data": {
      "text/plain": [
       "5572"
      ]
     },
     "execution_count": 7,
     "metadata": {},
     "output_type": "execute_result"
    }
   ],
   "source": [
    "len(data)"
   ]
  },
  {
   "cell_type": "code",
   "execution_count": 10,
   "metadata": {},
   "outputs": [
    {
     "data": {
      "text/plain": [
       "ham     4825\n",
       "spam     747\n",
       "Name: Class, dtype: int64"
      ]
     },
     "execution_count": 10,
     "metadata": {},
     "output_type": "execute_result"
    }
   ],
   "source": [
    "ham_spam = data.Class.value_counts()\n",
    "ham_spam"
   ]
  },
  {
   "cell_type": "code",
   "execution_count": 11,
   "metadata": {},
   "outputs": [
    {
     "name": "stdout",
     "output_type": "stream",
     "text": [
      "SPam Rate in our data is :  13.406317300789663\n"
     ]
    }
   ],
   "source": [
    "print('SPam Rate in our data is : ',(747/(4825+747))*100)"
   ]
  },
  {
   "cell_type": "code",
   "execution_count": 14,
   "metadata": {},
   "outputs": [],
   "source": [
    "data['label'] = data.Class.map({'ham':0,'spam':1})"
   ]
  },
  {
   "cell_type": "code",
   "execution_count": 15,
   "metadata": {},
   "outputs": [
    {
     "data": {
      "text/html": [
       "<div>\n",
       "<style scoped>\n",
       "    .dataframe tbody tr th:only-of-type {\n",
       "        vertical-align: middle;\n",
       "    }\n",
       "\n",
       "    .dataframe tbody tr th {\n",
       "        vertical-align: top;\n",
       "    }\n",
       "\n",
       "    .dataframe thead th {\n",
       "        text-align: right;\n",
       "    }\n",
       "</style>\n",
       "<table border=\"1\" class=\"dataframe\">\n",
       "  <thead>\n",
       "    <tr style=\"text-align: right;\">\n",
       "      <th></th>\n",
       "      <th>Class</th>\n",
       "      <th>SMS</th>\n",
       "      <th>label</th>\n",
       "    </tr>\n",
       "  </thead>\n",
       "  <tbody>\n",
       "    <tr>\n",
       "      <th>0</th>\n",
       "      <td>ham</td>\n",
       "      <td>Go until jurong point, crazy.. Available only ...</td>\n",
       "      <td>0</td>\n",
       "    </tr>\n",
       "    <tr>\n",
       "      <th>1</th>\n",
       "      <td>ham</td>\n",
       "      <td>Ok lar... Joking wif u oni...</td>\n",
       "      <td>0</td>\n",
       "    </tr>\n",
       "    <tr>\n",
       "      <th>2</th>\n",
       "      <td>spam</td>\n",
       "      <td>Free entry in 2 a wkly comp to win FA Cup fina...</td>\n",
       "      <td>1</td>\n",
       "    </tr>\n",
       "    <tr>\n",
       "      <th>3</th>\n",
       "      <td>ham</td>\n",
       "      <td>U dun say so early hor... U c already then say...</td>\n",
       "      <td>0</td>\n",
       "    </tr>\n",
       "    <tr>\n",
       "      <th>4</th>\n",
       "      <td>ham</td>\n",
       "      <td>Nah I don't think he goes to usf, he lives aro...</td>\n",
       "      <td>0</td>\n",
       "    </tr>\n",
       "  </tbody>\n",
       "</table>\n",
       "</div>"
      ],
      "text/plain": [
       "  Class                                                SMS  label\n",
       "0   ham  Go until jurong point, crazy.. Available only ...      0\n",
       "1   ham                      Ok lar... Joking wif u oni...      0\n",
       "2  spam  Free entry in 2 a wkly comp to win FA Cup fina...      1\n",
       "3   ham  U dun say so early hor... U c already then say...      0\n",
       "4   ham  Nah I don't think he goes to usf, he lives aro...      0"
      ]
     },
     "execution_count": 15,
     "metadata": {},
     "output_type": "execute_result"
    }
   ],
   "source": [
    "data.head()"
   ]
  },
  {
   "cell_type": "code",
   "execution_count": 16,
   "metadata": {},
   "outputs": [],
   "source": [
    "data.drop('Class',axis=1,inplace=True)"
   ]
  },
  {
   "cell_type": "code",
   "execution_count": 18,
   "metadata": {},
   "outputs": [
    {
     "data": {
      "text/html": [
       "<div>\n",
       "<style scoped>\n",
       "    .dataframe tbody tr th:only-of-type {\n",
       "        vertical-align: middle;\n",
       "    }\n",
       "\n",
       "    .dataframe tbody tr th {\n",
       "        vertical-align: top;\n",
       "    }\n",
       "\n",
       "    .dataframe thead th {\n",
       "        text-align: right;\n",
       "    }\n",
       "</style>\n",
       "<table border=\"1\" class=\"dataframe\">\n",
       "  <thead>\n",
       "    <tr style=\"text-align: right;\">\n",
       "      <th></th>\n",
       "      <th>SMS</th>\n",
       "      <th>label</th>\n",
       "    </tr>\n",
       "  </thead>\n",
       "  <tbody>\n",
       "    <tr>\n",
       "      <th>0</th>\n",
       "      <td>Go until jurong point, crazy.. Available only ...</td>\n",
       "      <td>0</td>\n",
       "    </tr>\n",
       "    <tr>\n",
       "      <th>1</th>\n",
       "      <td>Ok lar... Joking wif u oni...</td>\n",
       "      <td>0</td>\n",
       "    </tr>\n",
       "    <tr>\n",
       "      <th>2</th>\n",
       "      <td>Free entry in 2 a wkly comp to win FA Cup fina...</td>\n",
       "      <td>1</td>\n",
       "    </tr>\n",
       "    <tr>\n",
       "      <th>3</th>\n",
       "      <td>U dun say so early hor... U c already then say...</td>\n",
       "      <td>0</td>\n",
       "    </tr>\n",
       "    <tr>\n",
       "      <th>4</th>\n",
       "      <td>Nah I don't think he goes to usf, he lives aro...</td>\n",
       "      <td>0</td>\n",
       "    </tr>\n",
       "  </tbody>\n",
       "</table>\n",
       "</div>"
      ],
      "text/plain": [
       "                                                 SMS  label\n",
       "0  Go until jurong point, crazy.. Available only ...      0\n",
       "1                      Ok lar... Joking wif u oni...      0\n",
       "2  Free entry in 2 a wkly comp to win FA Cup fina...      1\n",
       "3  U dun say so early hor... U c already then say...      0\n",
       "4  Nah I don't think he goes to usf, he lives aro...      0"
      ]
     },
     "execution_count": 18,
     "metadata": {},
     "output_type": "execute_result"
    }
   ],
   "source": [
    "data.head()"
   ]
  },
  {
   "cell_type": "code",
   "execution_count": 19,
   "metadata": {},
   "outputs": [],
   "source": [
    "X= data.SMS\n",
    "y= data.label"
   ]
  },
  {
   "cell_type": "code",
   "execution_count": 20,
   "metadata": {},
   "outputs": [],
   "source": [
    "from sklearn.model_selection import train_test_split\n",
    "X_train,X_test,y_train,y_test = train_test_split(X,y,test_size = 0.2,random_state=100)"
   ]
  },
  {
   "cell_type": "code",
   "execution_count": 22,
   "metadata": {},
   "outputs": [
    {
     "name": "stdout",
     "output_type": "stream",
     "text": [
      "train data shape =  (4457,)\n",
      "Test data shape =  (1115,)\n"
     ]
    }
   ],
   "source": [
    "print('train data shape = ',X_train.shape)\n",
    "print('Test data shape = ',X_test.shape)"
   ]
  },
  {
   "cell_type": "code",
   "execution_count": 23,
   "metadata": {},
   "outputs": [],
   "source": [
    "from sklearn.feature_extraction.text import CountVectorizer\n",
    "vec = CountVectorizer(stop_words='english')"
   ]
  },
  {
   "cell_type": "code",
   "execution_count": 24,
   "metadata": {},
   "outputs": [
    {
     "data": {
      "text/plain": [
       "CountVectorizer(stop_words='english')"
      ]
     },
     "execution_count": 24,
     "metadata": {},
     "output_type": "execute_result"
    }
   ],
   "source": [
    "vec.fit(X_train)"
   ]
  },
  {
   "cell_type": "code",
   "execution_count": 25,
   "metadata": {},
   "outputs": [
    {
     "data": {
      "text/plain": [
       "{'da': 2110,\n",
       " 'page': 4901,\n",
       " 'want': 7160,\n",
       " 'beautiful': 1262,\n",
       " 'girl': 3072,\n",
       " 'ive': 3667,\n",
       " 'seen': 5827,\n",
       " 'baby': 1175,\n",
       " 'come': 1880,\n",
       " 'common': 1890,\n",
       " 'room': 5657,\n",
       " 'just': 3767,\n",
       " 'sleeping': 6046,\n",
       " 'surfing': 6439,\n",
       " 'maybe': 4290,\n",
       " 'westshore': 7253,\n",
       " 'hyde': 3469,\n",
       " 'park': 4940,\n",
       " 'village': 7076,\n",
       " 'place': 5082,\n",
       " 'near': 4598,\n",
       " 'house': 3421,\n",
       " 'hi': 3340,\n",
       " 'darlin': 2128,\n",
       " 'work': 7350,\n",
       " 'did': 2261,\n",
       " 'trouble': 6834,\n",
       " 'ijust': 3504,\n",
       " 'talked': 6505,\n",
       " 'mum': 4521,\n",
       " 'morning': 4471,\n",
       " 'really': 5446,\n",
       " 'good': 3113,\n",
       " 'time': 6692,\n",
       " 'night': 4655,\n",
       " 'im': 3514,\n",
       " 'goin': 3099,\n",
       " 'soon': 6139,\n",
       " 'sad': 5711,\n",
       " 'puppy': 5340,\n",
       " 'noise': 4677,\n",
       " 'hows': 3427,\n",
       " 'champ': 1694,\n",
       " 'leaving': 3957,\n",
       " 'glasgow': 3082,\n",
       " 'sorry': 6148,\n",
       " 'll': 4050,\n",
       " 'later': 3923,\n",
       " 'ree': 5489,\n",
       " 'entry': 2568,\n",
       " 'weekly': 7226,\n",
       " 'comp': 1892,\n",
       " 'chance': 1697,\n",
       " 'win': 7288,\n",
       " 'ipod': 3634,\n",
       " 'txt': 6882,\n",
       " 'pod': 5130,\n",
       " '80182': 661,\n",
       " 'std': 6278,\n",
       " 'rate': 5413,\n",
       " 'apply': 1014,\n",
       " '08452810073': 68,\n",
       " 'details': 2238,\n",
       " '18': 326,\n",
       " 'hope': 3395,\n",
       " 'scared': 5777,\n",
       " 'right': 5620,\n",
       " 'space': 6168,\n",
       " 'need': 4609,\n",
       " 'starting': 6263,\n",
       " 'issue': 3653,\n",
       " 'going': 3101,\n",
       " 'suggest': 6397,\n",
       " 'setting': 5870,\n",
       " 'definite': 2184,\n",
       " 'greece': 3164,\n",
       " 'ready': 5437,\n",
       " 'wan': 7156,\n",
       " 'dinner': 2288,\n",
       " 'tonight': 6759,\n",
       " 'motivate': 4477,\n",
       " 'darkness': 2127,\n",
       " 'shining': 5918,\n",
       " 'light': 4001,\n",
       " 'waiting': 7139,\n",
       " 'best': 1301,\n",
       " 'friend': 2936,\n",
       " 'trust': 6843,\n",
       " 'love': 4118,\n",
       " 'bslvyl': 1512,\n",
       " 'dear': 2155,\n",
       " 'regret': 5510,\n",
       " 'cudnt': 2080,\n",
       " 'pick': 5055,\n",
       " 'drove': 2420,\n",
       " 'frm': 2943,\n",
       " 'ctla': 2069,\n",
       " 'cochin': 1849,\n",
       " 'home': 3381,\n",
       " 'left': 3961,\n",
       " 'mobile': 4431,\n",
       " 'car': 1620,\n",
       " 'ente': 2557,\n",
       " 'style': 6363,\n",
       " 'ishtamayoo': 3648,\n",
       " 'happy': 3261,\n",
       " 'bakrid': 1194,\n",
       " 'urgent': 6993,\n",
       " '09066350750': 227,\n",
       " 'landline': 3900,\n",
       " 'complimentary': 1907,\n",
       " 'ibiza': 3477,\n",
       " 'holiday': 3376,\n",
       " '10': 259,\n",
       " '000': 1,\n",
       " 'cash': 1647,\n",
       " 'await': 1150,\n",
       " 'collection': 1868,\n",
       " 'sae': 5712,\n",
       " 'cs': 2061,\n",
       " 'po': 5113,\n",
       " 'box': 1431,\n",
       " '434': 498,\n",
       " 'sk3': 6025,\n",
       " '8wp': 738,\n",
       " '150': 308,\n",
       " 'ppm': 5198,\n",
       " 'sent': 5854,\n",
       " 'dude': 2435,\n",
       " 'got': 3130,\n",
       " 'haircut': 3225,\n",
       " 'breezy': 1475,\n",
       " 'unnecessarily': 6963,\n",
       " 'hostile': 3412,\n",
       " 'deleted': 2196,\n",
       " 'contact': 1953,\n",
       " 'costa': 1995,\n",
       " 'del': 2192,\n",
       " 'sol': 6113,\n",
       " '5000': 551,\n",
       " '09050090044': 171,\n",
       " 'toclaim': 6729,\n",
       " 'tcs': 6536,\n",
       " 'pobox334': 5120,\n",
       " 'stockport': 6300,\n",
       " 'sk38xh': 6026,\n",
       " 'cost': 1994,\n",
       " '50': 549,\n",
       " 'pm': 5112,\n",
       " 'max10mins': 4287,\n",
       " 'date': 2137,\n",
       " 'sunday': 6412,\n",
       " 'vivek': 7094,\n",
       " 'number': 4725,\n",
       " '1apple': 332,\n",
       " 'day': 2144,\n",
       " 'doctor': 2339,\n",
       " '1tulsi': 348,\n",
       " 'leaf': 3951,\n",
       " 'cancer': 1610,\n",
       " '1lemon': 339,\n",
       " 'fat': 2728,\n",
       " '1cup': 334,\n",
       " 'milk': 4364,\n",
       " 'bone': 1398,\n",
       " 'problms': 5280,\n",
       " 'litres': 4041,\n",
       " 'watr': 7187,\n",
       " 'diseases': 2311,\n",
       " 'snd': 6098,\n",
       " 'ths': 6671,\n",
       " 'care': 1625,\n",
       " 'lol': 4076,\n",
       " 'feeling': 2749,\n",
       " 'sick': 5977,\n",
       " 'meet': 4312,\n",
       " 'lunch': 4151,\n",
       " 'la': 3878,\n",
       " 'free': 2917,\n",
       " 'polyphonic': 5146,\n",
       " 'tones': 6753,\n",
       " '087018728737': 78,\n",
       " 'national': 4584,\n",
       " 'toppoly': 6773,\n",
       " 'tune': 6866,\n",
       " 'week': 7222,\n",
       " 'text': 6592,\n",
       " 'subpoly': 6368,\n",
       " '81618': 670,\n",
       " 'pole': 5137,\n",
       " 'unsub': 6969,\n",
       " '08718727870': 149,\n",
       " 'kallis': 3785,\n",
       " 'dismissial': 2315,\n",
       " '2nd': 411,\n",
       " 'test': 6587,\n",
       " 'ooooooh': 4810,\n",
       " 'forgot': 2889,\n",
       " 'tell': 6560,\n",
       " 'yoville': 7468,\n",
       " 'phone': 5041,\n",
       " 'sez': 5880,\n",
       " 'arab': 1033,\n",
       " 'boy': 1446,\n",
       " 'evry1': 2629,\n",
       " 'ya': 7422,\n",
       " 'eshxxxxxxxxxxx': 2595,\n",
       " 'thanks': 6609,\n",
       " 'talk': 6504,\n",
       " 'saturday': 5759,\n",
       " 'cherish': 1744,\n",
       " 'having': 3283,\n",
       " 'brother': 1501,\n",
       " 'role': 5650,\n",
       " 'model': 4442,\n",
       " 'does': 2342,\n",
       " 'like': 4004,\n",
       " 'dis': 2298,\n",
       " 'sweater': 6459,\n",
       " 'fr': 2905,\n",
       " 'mango': 4236,\n",
       " 'size': 6024,\n",
       " 'irritating': 3642,\n",
       " 'yeah': 7435,\n",
       " 'list': 4035,\n",
       " 'joanna': 3722,\n",
       " 'anti': 987,\n",
       " 'social': 6108,\n",
       " 'workout': 7355,\n",
       " 'lor': 4097,\n",
       " 'muz': 4543,\n",
       " 'lose': 4099,\n",
       " 'fats': 2732,\n",
       " 'gonna': 3111,\n",
       " 'die': 2264,\n",
       " 'stay': 6273,\n",
       " 'people': 5000,\n",
       " 'mu': 4511,\n",
       " 'table': 6485,\n",
       " 'lambda': 3895,\n",
       " 'say': 5767,\n",
       " 'slowly': 6063,\n",
       " 'god': 3094,\n",
       " 'amp': 949,\n",
       " 'clean': 1811,\n",
       " 'heart': 3300,\n",
       " 'blood': 1373,\n",
       " 'send': 5846,\n",
       " 'special': 6179,\n",
       " 'miracle': 4388,\n",
       " 'tomorrow': 6750,\n",
       " 'pls': 5106,\n",
       " 'yar': 7429,\n",
       " 'noe': 4674,\n",
       " 'used': 7008,\n",
       " 'dat': 2135,\n",
       " 'route': 5667,\n",
       " 'congrats': 1937,\n",
       " '3g': 467,\n",
       " 'videophones': 7068,\n",
       " '09063458130': 210,\n",
       " 'videochat': 7067,\n",
       " 'wid': 7276,\n",
       " 'mates': 4274,\n",
       " 'play': 5094,\n",
       " 'java': 3694,\n",
       " 'games': 3002,\n",
       " 'dload': 2331,\n",
       " 'polyph': 5145,\n",
       " 'music': 4535,\n",
       " 'noline': 4683,\n",
       " 'rentl': 5546,\n",
       " 'shall': 5892,\n",
       " 'mail': 4208,\n",
       " 'tonite': 6761,\n",
       " 'busy': 1549,\n",
       " 'street': 6330,\n",
       " 'update': 6976,\n",
       " 'things': 6642,\n",
       " 'looking': 4089,\n",
       " 'ok': 4779,\n",
       " 'varunnathu': 7041,\n",
       " 'edukkukayee': 2486,\n",
       " 'raksha': 5400,\n",
       " 'ollu': 4791,\n",
       " 'real': 5438,\n",
       " 'sense': 5850,\n",
       " 'chicken': 1754,\n",
       " 'broth': 1499,\n",
       " 'ramen': 5404,\n",
       " 'unless': 6959,\n",
       " 'don': 2364,\n",
       " 'know': 3854,\n",
       " 'ladies': 3888,\n",
       " 'genus': 3047,\n",
       " 'second': 5813,\n",
       " 'haha': 3220,\n",
       " 'sec': 5812,\n",
       " 'simple': 5995,\n",
       " 'arithmetic': 1051,\n",
       " 'percentages': 5001,\n",
       " 'wewa': 7256,\n",
       " '130': 296,\n",
       " 'iriver': 3638,\n",
       " '255': 376,\n",
       " '128': 291,\n",
       " 'mb': 4291,\n",
       " 'xmas': 7408,\n",
       " 'story': 6322,\n",
       " 'peace': 4986,\n",
       " 'msg': 4495,\n",
       " 'jesus': 3712,\n",
       " 'hav': 3276,\n",
       " 'blessed': 1360,\n",
       " 'month': 4462,\n",
       " 'ahead': 885,\n",
       " 'wish': 7304,\n",
       " 'merry': 4337,\n",
       " 'sindu': 6001,\n",
       " 'job': 3723,\n",
       " 'birla': 1333,\n",
       " 'soft': 6110,\n",
       " 've': 7048,\n",
       " 'wife': 7279,\n",
       " 'buy': 1554,\n",
       " 'relax': 5516,\n",
       " 'wkend': 7314,\n",
       " 'tone': 6752,\n",
       " 'ur': 6989,\n",
       " 'mob': 4429,\n",
       " 'pt2': 5329,\n",
       " '87575': 716,\n",
       " '1st': 343,\n",
       " 'txtin': 6887,\n",
       " 'friends': 2937,\n",
       " '150p': 310,\n",
       " '16': 321,\n",
       " 'reply': 5555,\n",
       " 'hl': 3359,\n",
       " '4info': 532,\n",
       " 'pdate_now': 4985,\n",
       " 'double': 2381,\n",
       " 'mins': 4383,\n",
       " '1000': 261,\n",
       " 'txts': 6890,\n",
       " 'orange': 4833,\n",
       " 'tariffs': 6516,\n",
       " 'latest': 3924,\n",
       " 'motorola': 4479,\n",
       " 'sonyericsson': 6137,\n",
       " 'nokia': 4679,\n",
       " 'bluetooth': 1381,\n",
       " 'mobileupd8': 4435,\n",
       " '08000839402': 50,\n",
       " 'call2optout': 1581,\n",
       " 'yhl': 7449,\n",
       " 'callin': 1591,\n",
       " 'bruv': 1511,\n",
       " 'bloo': 1372,\n",
       " 'miss': 4395,\n",
       " 'bowl': 1429,\n",
       " 'finish': 2799,\n",
       " 'loads': 4055,\n",
       " 'loans': 4057,\n",
       " 'pay': 4974,\n",
       " 'cool': 1978,\n",
       " '4mths': 535,\n",
       " 'half': 3229,\n",
       " 'price': 5255,\n",
       " 'line': 4019,\n",
       " 'rental': 5544,\n",
       " 'camera': 1600,\n",
       " 'phones': 5045,\n",
       " '11mths': 281,\n",
       " 'mobilesdirect': 4433,\n",
       " '08000938767': 52,\n",
       " 'or2stoptxt': 4831,\n",
       " 'yes': 7444,\n",
       " 'princess': 5260,\n",
       " 'make': 4216,\n",
       " 'tuition': 6862,\n",
       " '330': 452,\n",
       " 'hm': 3362,\n",
       " '1120': 274,\n",
       " '1205': 284,\n",
       " 'mind': 4372,\n",
       " 'open': 4812,\n",
       " 'rebtel': 5458,\n",
       " 'firefox': 2807,\n",
       " 'plus': 5110,\n",
       " 'sign': 5982,\n",
       " 'user': 7011,\n",
       " 'numbers': 4726,\n",
       " 'lower': 4131,\n",
       " 'pin': 5070,\n",
       " 'display': 2316,\n",
       " 'okay': 4780,\n",
       " 'vikky': 7074,\n",
       " 'vl': 7096,\n",
       " 'witin': 7309,\n",
       " 'lt': 4141,\n",
       " 'gt': 3188,\n",
       " 'il': 3508,\n",
       " 'free2day': 2918,\n",
       " 'sexy': 5878,\n",
       " 'st': 6242,\n",
       " 'george': 3049,\n",
       " 'pic': 5054,\n",
       " 'jordan': 3741,\n",
       " '89080': 726,\n",
       " 'dont': 2367,\n",
       " 'wk': 7313,\n",
       " 'saucy': 5760,\n",
       " 'celeb': 1675,\n",
       " 'pics': 5058,\n",
       " 'pocketbabe': 5128,\n",
       " 'uk': 6911,\n",
       " '0870241182716': 79,\n",
       " 'join': 3729,\n",
       " 'horniest': 3404,\n",
       " 'dogging': 2349,\n",
       " 'service': 5866,\n",
       " 'sex': 5875,\n",
       " '2nite': 412,\n",
       " 'follow': 2859,\n",
       " 'instructions': 3599,\n",
       " '69888': 610,\n",
       " 'nyt': 4741,\n",
       " 'ec2a': 2474,\n",
       " '3lp': 471,\n",
       " 'new': 4638,\n",
       " 'message': 4340,\n",
       " '08718738034': 154,\n",
       " 'cuddle': 2078,\n",
       " 'hold': 3373,\n",
       " 'strong': 6340,\n",
       " 'arms': 1055,\n",
       " 'nice': 4648,\n",
       " 'working': 7354,\n",
       " 'class': 1806,\n",
       " 'holla': 3377,\n",
       " 'bucks': 1519,\n",
       " 'jay': 3695,\n",
       " 'noncomittal': 4685,\n",
       " 'hey': 3336,\n",
       " 'kate': 3796,\n",
       " 'buz': 1557,\n",
       " 'wedlunch': 7217,\n",
       " 'outsomewhere': 4873,\n",
       " 'adrink': 844,\n",
       " 'town': 6789,\n",
       " 'cud': 2077,\n",
       " '2watershd': 423,\n",
       " 'bit': 1339,\n",
       " 'ppl': 5196,\n",
       " 'fromwrk': 2955,\n",
       " 'bthere': 1515,\n",
       " 'petexxx': 5027,\n",
       " 'sweet': 6460,\n",
       " 'nalla': 4563,\n",
       " 'adi': 833,\n",
       " 'entey': 2563,\n",
       " 'nattil': 4586,\n",
       " 'kittum': 3844,\n",
       " 'long': 4082,\n",
       " 'plan': 5085,\n",
       " 'valentines': 7030,\n",
       " 'url': 7000,\n",
       " 'yo': 7454,\n",
       " 'guess': 3196,\n",
       " 'arrested': 1063,\n",
       " 'moji': 4447,\n",
       " 'words': 7349,\n",
       " 'rich': 5617,\n",
       " 'happening': 3255,\n",
       " 'gotten': 3136,\n",
       " 'begun': 1282,\n",
       " 'registration': 5509,\n",
       " 'permanent': 5011,\n",
       " 'residency': 5574,\n",
       " 'sure': 6436,\n",
       " 'parents': 4937,\n",
       " 'tuesday': 6860,\n",
       " 'cover': 2014,\n",
       " 'doing': 2354,\n",
       " 'settled': 5873,\n",
       " 'school': 5783,\n",
       " 'year': 7436,\n",
       " 'wishin': 7306,\n",
       " 'gr8': 3142,\n",
       " 'joy': 3746,\n",
       " 'father': 2730,\n",
       " 'john': 3728,\n",
       " 'mandan': 4232,\n",
       " 'guaranteed': 3190,\n",
       " '40gb': 489,\n",
       " 'mp3': 4489,\n",
       " 'player': 5096,\n",
       " '500': 550,\n",
       " 'prize': 5272,\n",
       " 'word': 7348,\n",
       " 'collect': 1865,\n",
       " '83355': 684,\n",
       " 'ibhltd': 3476,\n",
       " 'ldnw15h': 3946,\n",
       " 'mtmsgrcvd18': 4509,\n",
       " 'sight': 5981,\n",
       " 'remain': 5525,\n",
       " 'till': 6690,\n",
       " 'maintain': 4213,\n",
       " 'life': 3994,\n",
       " 'ends': 2540,\n",
       " 'sh': 5882,\n",
       " 'jas': 3693,\n",
       " 'aight': 891,\n",
       " 'informed': 3574,\n",
       " 'honey': 3386,\n",
       " 'sweetheart': 6462,\n",
       " 'darling': 2129,\n",
       " 'buns': 1534,\n",
       " 'sugar': 6395,\n",
       " 'plum': 5107,\n",
       " 'loverboy': 4124,\n",
       " 'boytoy': 1451,\n",
       " 'smacks': 6066,\n",
       " 'ass': 1090,\n",
       " 'gym': 3211,\n",
       " 'oh': 4775,\n",
       " 'hour': 3418,\n",
       " 'longer': 4083,\n",
       " 'syria': 6481,\n",
       " 'canada': 1604,\n",
       " 'eh': 2500,\n",
       " 'wow': 7373,\n",
       " 'extra': 2675,\n",
       " 'grins': 3171,\n",
       " 'predict': 5220,\n",
       " 'wat': 7177,\n",
       " 'buying': 1556,\n",
       " 'sef': 5828,\n",
       " 'dey': 2246,\n",
       " 'laugh': 3927,\n",
       " 'anjie': 967,\n",
       " 'thing': 6641,\n",
       " 'change': 1699,\n",
       " 'sentence': 5855,\n",
       " 'concentrate': 1917,\n",
       " 'educational': 2485,\n",
       " 'career': 1628,\n",
       " 'chikku': 1758,\n",
       " 'nw': 4736,\n",
       " 'bus': 1543,\n",
       " 'mobiles': 4432,\n",
       " '2004': 357,\n",
       " '89545': 729,\n",
       " 'today': 6730,\n",
       " 'www': 7398,\n",
       " 'tc': 6534,\n",
       " 'biz': 1345,\n",
       " '2optout': 413,\n",
       " '087187262701': 145,\n",
       " '50gbp': 555,\n",
       " 'mtmsg18': 4508,\n",
       " 'movies': 4486,\n",
       " 'laptop': 3910,\n",
       " 'great': 3161,\n",
       " 'using': 7015,\n",
       " 'connections': 1942,\n",
       " 'mode': 4441,\n",
       " 'men': 4327,\n",
       " 'cos': 1992,\n",
       " 'old': 4790,\n",
       " 'lead': 3948,\n",
       " 'heard': 3297,\n",
       " 'u4': 6900,\n",
       " 'rude': 5684,\n",
       " 'chat': 1719,\n",
       " 'private': 5269,\n",
       " '01223585334': 6,\n",
       " 'cum': 2082,\n",
       " '2c': 388,\n",
       " 'gettin': 3058,\n",
       " 'shagged': 5886,\n",
       " 'pix': 5078,\n",
       " '8552': 700,\n",
       " '2end': 392,\n",
       " 'stop': 6308,\n",
       " 'sam': 5730,\n",
       " 'xxx': 7415,\n",
       " 'look': 4085,\n",
       " 'fuckin': 2964,\n",
       " 'fuck': 2962,\n",
       " 'think': 6643,\n",
       " 'awake': 1152,\n",
       " 'snow': 6103,\n",
       " 'problem': 5278,\n",
       " 'reaching': 5430,\n",
       " 'stops': 6315,\n",
       " 'gent': 3042,\n",
       " 'trying': 6848,\n",
       " 'weekends': 7225,\n",
       " 'draw': 2399,\n",
       " 'shows': 5963,\n",
       " 'won': 7333,\n",
       " '09064012160': 214,\n",
       " 'claim': 1798,\n",
       " 'code': 1852,\n",
       " 'k52': 3774,\n",
       " 'valid': 7031,\n",
       " '12hrs': 293,\n",
       " '150ppm': 314,\n",
       " 'weekend': 7224,\n",
       " 'armand': 1053,\n",
       " 'everybody': 2616,\n",
       " 'panasonic': 4914,\n",
       " 'bluetoothhdset': 1382,\n",
       " 'doublemins': 2382,\n",
       " 'doubletxt': 2384,\n",
       " 'contract': 1963,\n",
       " 'guy': 3207,\n",
       " 'browsin': 1508,\n",
       " 'compulsory': 1911,\n",
       " 'gibbs': 3064,\n",
       " 'unsold': 6968,\n",
       " 'mike': 4360,\n",
       " 'hussey': 3463,\n",
       " 'online': 4802,\n",
       " 'transaction': 6803,\n",
       " 'sun': 6411,\n",
       " 'sleep': 6044,\n",
       " 'medicine': 4309,\n",
       " 'tkts': 6713,\n",
       " 'euro2004': 2604,\n",
       " 'cup': 2084,\n",
       " 'final': 2791,\n",
       " '800': 652,\n",
       " '09058099801': 188,\n",
       " 'b4190604': 1164,\n",
       " 'pobox': 5115,\n",
       " '7876150ppm': 642,\n",
       " 'pathaya': 4965,\n",
       " 'enketa': 2554,\n",
       " 'maraikara': 4242,\n",
       " 'pa': 4894,\n",
       " 'lovely': 4121,\n",
       " 'smell': 6074,\n",
       " 'ain': 892,\n",
       " 'tobacco': 6726,\n",
       " 'probably': 5277,\n",
       " 'gas': 3015,\n",
       " 'knows': 3857,\n",
       " 'menu': 4333,\n",
       " 'askin': 1084,\n",
       " 'dollars': 2360,\n",
       " 'shoul': 5949,\n",
       " 'hello': 3316,\n",
       " 'bath': 1233,\n",
       " 'hair': 3224,\n",
       " '2000': 355,\n",
       " 'yr': 7471,\n",
       " 'customer': 2094,\n",
       " 'representative': 5560,\n",
       " 'babe': 1172,\n",
       " 'lost': 4104,\n",
       " 'feel': 2747,\n",
       " 'belly': 1289,\n",
       " 'warm': 7166,\n",
       " 'dreams': 2403,\n",
       " 'ahmad': 887,\n",
       " 'adoring': 841,\n",
       " 'kiss': 3841,\n",
       " 'loan': 4056,\n",
       " 'purpose': 5345,\n",
       " '75': 631,\n",
       " 'homeowners': 3382,\n",
       " 'tenants': 6570,\n",
       " 'welcome': 7236,\n",
       " 'previously': 5253,\n",
       " 'refused': 5501,\n",
       " 'help': 3318,\n",
       " '0800': 47,\n",
       " '1956669': 331,\n",
       " 'no1': 4672,\n",
       " '8007': 655,\n",
       " 'txting': 6888,\n",
       " 'getzed': 3060,\n",
       " '36504': 457,\n",
       " 'w45wq': 7123,\n",
       " 'norm150p': 4694,\n",
       " 'castor': 1654,\n",
       " 'erm': 2583,\n",
       " 'ill': 3510,\n",
       " '45pm': 513,\n",
       " 'shant': 5897,\n",
       " 'disturb': 2319,\n",
       " 'anymore': 990,\n",
       " 'jia': 3718,\n",
       " 'chk': 1774,\n",
       " 'belovd': 1292,\n",
       " 'ms': 4494,\n",
       " 'dict': 2259,\n",
       " 'cream': 2034,\n",
       " 'shipped': 5921,\n",
       " 'tried': 6827,\n",
       " 'adding': 830,\n",
       " 'zeros': 7488,\n",
       " 'savings': 5765,\n",
       " 'checking': 1732,\n",
       " 'leave': 3955,\n",
       " 'ask': 1081,\n",
       " 'aren': 1038,\n",
       " 'hours': 3420,\n",
       " 'imma': 3522,\n",
       " 'flip': 2836,\n",
       " 'shit': 5925,\n",
       " 'address': 831,\n",
       " 'talking': 6507,\n",
       " 'thk': 6651,\n",
       " 'fast': 2725,\n",
       " 'xy': 7420,\n",
       " 'dun': 2440,\n",
       " 'rain': 5391,\n",
       " 'leh': 3967,\n",
       " 'gd': 3029,\n",
       " 'tho': 6656,\n",
       " 'library': 3988,\n",
       " 'try': 6846,\n",
       " 'point': 5133,\n",
       " 'eve': 2609,\n",
       " 'notice': 4707,\n",
       " 'mirror': 4389,\n",
       " 'youre': 7463,\n",
       " 'turning': 6871,\n",
       " 'freak': 2912,\n",
       " 'eyes': 2680,\n",
       " 'philosophy': 5038,\n",
       " 'wana': 7158,\n",
       " 'pei': 4993,\n",
       " 'bf': 1311,\n",
       " 'oso': 4854,\n",
       " 'rite': 5635,\n",
       " 'days': 2145,\n",
       " 'den': 2206,\n",
       " 'thursday': 6676,\n",
       " 'wonder': 7336,\n",
       " 'little': 4042,\n",
       " 'times': 6693,\n",
       " 'usual': 7018,\n",
       " 'ard': 1036,\n",
       " 'smth': 6092,\n",
       " 'desparate': 2233,\n",
       " 'recorded': 5477,\n",
       " 'listen': 4037,\n",
       " 'hear': 3296,\n",
       " 'sound': 6157,\n",
       " 'voice': 7100,\n",
       " 'nope': 4691,\n",
       " 'juz': 3773,\n",
       " 'greet': 3166,\n",
       " 'aiya': 897,\n",
       " 'discuss': 2309,\n",
       " 'lar': 3911,\n",
       " 'scores': 5790,\n",
       " 'sophas': 6144,\n",
       " 'secondary': 5814,\n",
       " 'application': 1013,\n",
       " 'schools': 5784,\n",
       " 'thinking': 6646,\n",
       " 'applying': 1016,\n",
       " 'research': 5567,\n",
       " 'joke': 3732,\n",
       " 'ogunrinde': 4774,\n",
       " 'expensive': 2658,\n",
       " 'ones': 4799,\n",
       " 'cantdo': 1614,\n",
       " 'anythingtomorrow': 994,\n",
       " 'myparents': 4549,\n",
       " 'aretaking': 1040,\n",
       " 'outfor': 4865,\n",
       " 'meal': 4295,\n",
       " 'katexxx': 3797,\n",
       " 'ah': 883,\n",
       " 'reboot': 5456,\n",
       " 'ym': 7452,\n",
       " 'buzz': 1559,\n",
       " 'chief': 1756,\n",
       " 'bell': 1288,\n",
       " 'royal': 5671,\n",
       " 'visit': 7089,\n",
       " 'june': 3762,\n",
       " 'borrow': 1418,\n",
       " 'bag': 1187,\n",
       " 'wanna': 7159,\n",
       " 'watch': 7178,\n",
       " 'movie': 4485,\n",
       " 'speak': 6177,\n",
       " 'hmm': 3364,\n",
       " 'email': 2519,\n",
       " 'askd': 1082,\n",
       " 'question': 5368,\n",
       " 'answer': 979,\n",
       " 'comingdown': 1887,\n",
       " 'scrounge': 5802,\n",
       " 'ammo': 946,\n",
       " 'ak': 902,\n",
       " 'yuou': 7480,\n",
       " 'getting': 3059,\n",
       " 'pc': 4984,\n",
       " 'mom': 4450,\n",
       " 'spot': 6225,\n",
       " 'ebay': 2473,\n",
       " 'spare': 6172,\n",
       " 'head': 3287,\n",
       " 'kappa': 3792,\n",
       " 'outside': 4871,\n",
       " 'w4': 7122,\n",
       " '5wq': 582,\n",
       " 'norm': 4693,\n",
       " 'excuse': 2640,\n",
       " 'city': 1795,\n",
       " 'course': 2011,\n",
       " 'stink': 6296,\n",
       " 'na': 4555,\n",
       " 'booked': 1404,\n",
       " 'lessons': 3979,\n",
       " 'liao': 3986,\n",
       " 'presnts': 5241,\n",
       " 'bcz': 1256,\n",
       " 'mis': 4390,\n",
       " 'jeevithathile': 3704,\n",
       " 'irulinae': 3644,\n",
       " 'neekunna': 4615,\n",
       " 'prakasamanu': 5210,\n",
       " 'sneham': 6099,\n",
       " 'prakasam': 5209,\n",
       " 'ennal': 2556,\n",
       " 'prabha': 5201,\n",
       " 'mns': 4424,\n",
       " 'thought': 6659,\n",
       " 'expert': 2661,\n",
       " 'offer': 4765,\n",
       " 'video': 7066,\n",
       " '750': 632,\n",
       " 'anytime': 995,\n",
       " 'network': 4631,\n",
       " 'camcorder': 1598,\n",
       " '08000930705': 51,\n",
       " 'nt': 4717,\n",
       " 'joking': 3736,\n",
       " 'seriously': 5863,\n",
       " 'told': 6740,\n",
       " 'late': 3920,\n",
       " 'gorgeous': 3126,\n",
       " 'cumming': 2083,\n",
       " 'thank': 6608,\n",
       " 'grasp': 3153,\n",
       " 'pretty': 5249,\n",
       " 'booty': 1411,\n",
       " 'money': 4457,\n",
       " 'slots': 6060,\n",
       " 'driving': 2414,\n",
       " 'wif': 7278,\n",
       " 'family': 2712,\n",
       " 'aft': 867,\n",
       " 'str': 6323,\n",
       " 'orchard': 4835,\n",
       " 'addie': 829,\n",
       " 'art': 1068,\n",
       " 'drugdealer': 2423,\n",
       " 'coming': 1886,\n",
       " 'dad': 2113,\n",
       " 'confirm': 1931,\n",
       " 'afternoon': 869,\n",
       " 'goes': 3096,\n",
       " 'prospects': 5316,\n",
       " 'sighs': 5980,\n",
       " 'secure': 5822,\n",
       " 'lemme': 3970,\n",
       " 'drive': 2411,\n",
       " 'south': 6164,\n",
       " 'chill': 1764,\n",
       " 'figure': 2779,\n",
       " 'met': 4347,\n",
       " 'stranger': 6328,\n",
       " 'choose': 1778,\n",
       " 'world': 7357,\n",
       " 'stands': 6254,\n",
       " 'friendship': 2939,\n",
       " 'lets': 3981,\n",
       " 'forever': 2881,\n",
       " 'gud': 3192,\n",
       " 'nitz': 4669,\n",
       " 'posh': 5168,\n",
       " 'birds': 1332,\n",
       " 'chaps': 1705,\n",
       " 'trial': 6826,\n",
       " 'prods': 5287,\n",
       " 'champneys': 1696,\n",
       " 'dob': 2333,\n",
       " 'asap': 1075,\n",
       " 'ta': 6484,\n",
       " 'yunny': 7478,\n",
       " 'height': 3310,\n",
       " 'confidence': 1929,\n",
       " 'aeronautics': 855,\n",
       " 'professors': 5290,\n",
       " 'wer': 7244,\n",
       " 'calld': 1585,\n",
       " 'sit': 6015,\n",
       " 'aeroplane': 856,\n",
       " 'aftr': 871,\n",
       " 'sat': 5751,\n",
       " 'plane': 5086,\n",
       " 'ws': 7388,\n",
       " 'students': 6350,\n",
       " 'hurried': 3457,\n",
       " 'bt': 1514,\n",
       " 'didnt': 2263,\n",
       " 'said': 5718,\n",
       " 'wont': 7340,\n",
       " 'start': 6261,\n",
       " 'datz': 2141,\n",
       " 'serving': 5868,\n",
       " 'mean': 4297,\n",
       " 'lady': 3889,\n",
       " 'single': 6005,\n",
       " 'awarded': 1154,\n",
       " 'bonus': 1400,\n",
       " 'caller': 1587,\n",
       " '02': 8,\n",
       " '09': 163,\n",
       " '03': 13,\n",
       " 'attempt': 1111,\n",
       " '0871': 94,\n",
       " '872': 714,\n",
       " '9755': 748,\n",
       " 'box95qu': 1444,\n",
       " 'promotion': 5306,\n",
       " '8714714': 713,\n",
       " 'break': 1465,\n",
       " '200': 354,\n",
       " 'summer': 6408,\n",
       " 'shopping': 5938,\n",
       " 'spree': 6229,\n",
       " 'store': 6318,\n",
       " '88039': 717,\n",
       " 'skilgme': 6028,\n",
       " 'tscs087147403231winawk': 6853,\n",
       " 'age16': 875,\n",
       " '50perwksub': 558,\n",
       " 'yijue': 7451,\n",
       " '11': 273,\n",
       " 'tmr': 6718,\n",
       " 'afraid': 865,\n",
       " 'looks': 4090,\n",
       " 'scrumptious': 5803,\n",
       " 'daddy': 2114,\n",
       " 'wants': 7163,\n",
       " 'eat': 2469,\n",
       " 'trip': 6828,\n",
       " 'quite': 5375,\n",
       " 'tiring': 6701,\n",
       " 'uni': 6946,\n",
       " 'starts': 6264,\n",
       " 'taking': 6501,\n",
       " 'modules': 4445,\n",
       " 'jus': 3766,\n",
       " 'concentrating': 1918,\n",
       " 'project': 5297,\n",
       " 'possession': 5172,\n",
       " 'beneath': 1297,\n",
       " 'pale': 4910,\n",
       " 'moon': 4466,\n",
       " 'true': 6838,\n",
       " 'goodnite': 3120,\n",
       " 'gei': 3035,\n",
       " 'happend': 3253,\n",
       " 'tron': 6833,\n",
       " 'dl': 2328,\n",
       " '3d': 465,\n",
       " 'slow': 6062,\n",
       " 'biola': 1330,\n",
       " 'fne': 2856,\n",
       " 'mmmmm': 4420,\n",
       " 'loved': 4119,\n",
       " 'waking': 7141,\n",
       " 'wait': 7136,\n",
       " '____': 760,\n",
       " 'ans': 977,\n",
       " 'iq': 3635,\n",
       " 'tis': 6704,\n",
       " 'ias': 3474,\n",
       " 'use': 7007,\n",
       " 'yesterday': 7446,\n",
       " 'office': 4769,\n",
       " 'months': 4464,\n",
       " 'entitled': 2565,\n",
       " 'colour': 1872,\n",
       " '08002986030': 55,\n",
       " 'possible': 5176,\n",
       " ...}"
      ]
     },
     "execution_count": 25,
     "metadata": {},
     "output_type": "execute_result"
    }
   ],
   "source": [
    "vec.vocabulary_"
   ]
  },
  {
   "cell_type": "code",
   "execution_count": 27,
   "metadata": {},
   "outputs": [
    {
     "data": {
      "text/plain": [
       "7499"
      ]
     },
     "execution_count": 27,
     "metadata": {},
     "output_type": "execute_result"
    }
   ],
   "source": [
    "len(vec.vocabulary_.keys())"
   ]
  },
  {
   "cell_type": "code",
   "execution_count": 28,
   "metadata": {},
   "outputs": [],
   "source": [
    "X_train_transformed = vec.transform(X_train)\n",
    "X_test_transformed = vec.transform(X_test)"
   ]
  },
  {
   "cell_type": "code",
   "execution_count": 29,
   "metadata": {},
   "outputs": [
    {
     "name": "stdout",
     "output_type": "stream",
     "text": [
      "<class 'scipy.sparse.csr.csr_matrix'>\n"
     ]
    }
   ],
   "source": [
    "# note that the type is transformed (sparse) matrix\n",
    "print(type(X_train_transformed))\n",
    "#print(X_train_transformed)"
   ]
  },
  {
   "cell_type": "markdown",
   "metadata": {},
   "source": [
    "# 1. Model Building : Multinomial Naive Bayes "
   ]
  },
  {
   "cell_type": "code",
   "execution_count": 31,
   "metadata": {},
   "outputs": [],
   "source": [
    "from sklearn.naive_bayes import MultinomialNB\n",
    "mnb = MultinomialNB()\n",
    "mnb.fit(X_train_transformed,y_train)\n",
    "y_pred_class = mnb.predict(X_test_transformed)\n",
    "y_pred_class_probability = mnb.predict_proba(X_test_transformed)"
   ]
  },
  {
   "cell_type": "code",
   "execution_count": 32,
   "metadata": {},
   "outputs": [
    {
     "data": {
      "text/plain": [
       "MultinomialNB()"
      ]
     },
     "execution_count": 32,
     "metadata": {},
     "output_type": "execute_result"
    }
   ],
   "source": [
    "mnb"
   ]
  },
  {
   "cell_type": "code",
   "execution_count": 33,
   "metadata": {},
   "outputs": [],
   "source": [
    "from sklearn import metrics"
   ]
  },
  {
   "cell_type": "code",
   "execution_count": 34,
   "metadata": {},
   "outputs": [
    {
     "data": {
      "text/plain": [
       "0.9865470852017937"
      ]
     },
     "execution_count": 34,
     "metadata": {},
     "output_type": "execute_result"
    }
   ],
   "source": [
    "metrics.accuracy_score(y_test,y_pred_class)"
   ]
  },
  {
   "cell_type": "code",
   "execution_count": 35,
   "metadata": {},
   "outputs": [
    {
     "data": {
      "text/plain": [
       "array([[963,   5],\n",
       "       [ 10, 137]], dtype=int64)"
      ]
     },
     "execution_count": 35,
     "metadata": {},
     "output_type": "execute_result"
    }
   ],
   "source": [
    "metrics.confusion_matrix(y_test,y_pred_class)"
   ]
  },
  {
   "cell_type": "code",
   "execution_count": 37,
   "metadata": {},
   "outputs": [
    {
     "name": "stdout",
     "output_type": "stream",
     "text": [
      "[[963   5]\n",
      " [ 10 137]]\n"
     ]
    }
   ],
   "source": [
    "confusion = metrics.confusion_matrix(y_test,y_pred_class)\n",
    "TN = confusion[0,0]\n",
    "FP = confusion[0,1]\n",
    "FN = confusion[1,0]\n",
    "TP = confusion[1,1]\n",
    "print(confusion)"
   ]
  },
  {
   "cell_type": "code",
   "execution_count": 38,
   "metadata": {},
   "outputs": [
    {
     "name": "stdout",
     "output_type": "stream",
     "text": [
      "sensitivity 0.9319727891156463\n"
     ]
    }
   ],
   "source": [
    "sensitivity = TP / float(FN + TP)\n",
    "print(\"sensitivity\",sensitivity)"
   ]
  },
  {
   "cell_type": "code",
   "execution_count": 39,
   "metadata": {},
   "outputs": [
    {
     "name": "stdout",
     "output_type": "stream",
     "text": [
      "specificity 0.9948347107438017\n"
     ]
    }
   ],
   "source": [
    "specificity = TN / float(TN + FP)\n",
    "print(\"specificity\",specificity)"
   ]
  },
  {
   "cell_type": "code",
   "execution_count": 40,
   "metadata": {},
   "outputs": [
    {
     "name": "stdout",
     "output_type": "stream",
     "text": [
      "precision 0.9647887323943662\n",
      "0.9647887323943662\n"
     ]
    }
   ],
   "source": [
    "precision = TP / float(TP + FP)\n",
    "print(\"precision\",precision)\n",
    "print(metrics.precision_score(y_test, y_pred_class))"
   ]
  },
  {
   "cell_type": "code",
   "execution_count": 41,
   "metadata": {},
   "outputs": [
    {
     "name": "stdout",
     "output_type": "stream",
     "text": [
      "precision 0.9647887323943662\n",
      "PRECISION SCORE : 0.9647887323943662\n",
      "RECALL SCORE : 0.9319727891156463\n",
      "F1 SCORE : 0.9480968858131488\n"
     ]
    }
   ],
   "source": [
    "print(\"precision\",precision)\n",
    "print(\"PRECISION SCORE :\",metrics.precision_score(y_test, y_pred_class))\n",
    "print(\"RECALL SCORE :\", metrics.recall_score(y_test, y_pred_class))\n",
    "print(\"F1 SCORE :\",metrics.f1_score(y_test, y_pred_class))"
   ]
  },
  {
   "cell_type": "code",
   "execution_count": 42,
   "metadata": {},
   "outputs": [
    {
     "data": {
      "text/plain": [
       "array([0, 0, 1, ..., 1, 0, 0], dtype=int64)"
      ]
     },
     "execution_count": 42,
     "metadata": {},
     "output_type": "execute_result"
    }
   ],
   "source": [
    "y_pred_class"
   ]
  },
  {
   "cell_type": "code",
   "execution_count": 43,
   "metadata": {},
   "outputs": [],
   "source": [
    "from sklearn.metrics import confusion_matrix as skconfusion_matrix\n",
    "from sklearn.metrics import roc_curve,auc\n",
    "false_positive_rate, true_positive_rate, threshold = roc_curve(y_test,y_pred_class_probability[:,1])\n",
    "roc_auc = auc(false_positive_rate,true_positive_rate)"
   ]
  },
  {
   "cell_type": "code",
   "execution_count": 44,
   "metadata": {},
   "outputs": [
    {
     "name": "stdout",
     "output_type": "stream",
     "text": [
      "0.985937763535166\n"
     ]
    }
   ],
   "source": [
    "print(roc_auc)"
   ]
  },
  {
   "cell_type": "code",
   "execution_count": 46,
   "metadata": {},
   "outputs": [
    {
     "data": {
      "text/html": [
       "<div>\n",
       "<style scoped>\n",
       "    .dataframe tbody tr th:only-of-type {\n",
       "        vertical-align: middle;\n",
       "    }\n",
       "\n",
       "    .dataframe tbody tr th {\n",
       "        vertical-align: top;\n",
       "    }\n",
       "\n",
       "    .dataframe thead th {\n",
       "        text-align: right;\n",
       "    }\n",
       "</style>\n",
       "<table border=\"1\" class=\"dataframe\">\n",
       "  <thead>\n",
       "    <tr style=\"text-align: right;\">\n",
       "      <th></th>\n",
       "      <th>Threshold</th>\n",
       "      <th>TPR</th>\n",
       "      <th>FPR</th>\n",
       "    </tr>\n",
       "  </thead>\n",
       "  <tbody>\n",
       "    <tr>\n",
       "      <th>0</th>\n",
       "      <td>2.000000e+00</td>\n",
       "      <td>0.000000</td>\n",
       "      <td>0.000000</td>\n",
       "    </tr>\n",
       "    <tr>\n",
       "      <th>1</th>\n",
       "      <td>1.000000e+00</td>\n",
       "      <td>0.299320</td>\n",
       "      <td>0.000000</td>\n",
       "    </tr>\n",
       "    <tr>\n",
       "      <th>2</th>\n",
       "      <td>1.000000e+00</td>\n",
       "      <td>0.326531</td>\n",
       "      <td>0.000000</td>\n",
       "    </tr>\n",
       "    <tr>\n",
       "      <th>3</th>\n",
       "      <td>1.000000e+00</td>\n",
       "      <td>0.340136</td>\n",
       "      <td>0.000000</td>\n",
       "    </tr>\n",
       "    <tr>\n",
       "      <th>4</th>\n",
       "      <td>1.000000e+00</td>\n",
       "      <td>0.367347</td>\n",
       "      <td>0.000000</td>\n",
       "    </tr>\n",
       "    <tr>\n",
       "      <th>...</th>\n",
       "      <td>...</td>\n",
       "      <td>...</td>\n",
       "      <td>...</td>\n",
       "    </tr>\n",
       "    <tr>\n",
       "      <th>90</th>\n",
       "      <td>1.144541e-12</td>\n",
       "      <td>1.000000</td>\n",
       "      <td>0.962810</td>\n",
       "    </tr>\n",
       "    <tr>\n",
       "      <th>91</th>\n",
       "      <td>1.018069e-12</td>\n",
       "      <td>1.000000</td>\n",
       "      <td>0.964876</td>\n",
       "    </tr>\n",
       "    <tr>\n",
       "      <th>92</th>\n",
       "      <td>6.114609e-15</td>\n",
       "      <td>1.000000</td>\n",
       "      <td>0.985537</td>\n",
       "    </tr>\n",
       "    <tr>\n",
       "      <th>93</th>\n",
       "      <td>5.730234e-15</td>\n",
       "      <td>1.000000</td>\n",
       "      <td>0.987603</td>\n",
       "    </tr>\n",
       "    <tr>\n",
       "      <th>94</th>\n",
       "      <td>1.748818e-85</td>\n",
       "      <td>1.000000</td>\n",
       "      <td>1.000000</td>\n",
       "    </tr>\n",
       "  </tbody>\n",
       "</table>\n",
       "<p>95 rows × 3 columns</p>\n",
       "</div>"
      ],
      "text/plain": [
       "       Threshold       TPR       FPR\n",
       "0   2.000000e+00  0.000000  0.000000\n",
       "1   1.000000e+00  0.299320  0.000000\n",
       "2   1.000000e+00  0.326531  0.000000\n",
       "3   1.000000e+00  0.340136  0.000000\n",
       "4   1.000000e+00  0.367347  0.000000\n",
       "..           ...       ...       ...\n",
       "90  1.144541e-12  1.000000  0.962810\n",
       "91  1.018069e-12  1.000000  0.964876\n",
       "92  6.114609e-15  1.000000  0.985537\n",
       "93  5.730234e-15  1.000000  0.987603\n",
       "94  1.748818e-85  1.000000  1.000000\n",
       "\n",
       "[95 rows x 3 columns]"
      ]
     },
     "execution_count": 46,
     "metadata": {},
     "output_type": "execute_result"
    }
   ],
   "source": [
    "pd.DataFrame({'Threshold': threshold, \n",
    "              'TPR': true_positive_rate, \n",
    "              'FPR':false_positive_rate\n",
    "             })"
   ]
  },
  {
   "cell_type": "code",
   "execution_count": 47,
   "metadata": {},
   "outputs": [
    {
     "data": {
      "text/plain": [
       "[<matplotlib.lines.Line2D at 0x218bc559e80>]"
      ]
     },
     "execution_count": 47,
     "metadata": {},
     "output_type": "execute_result"
    },
    {
     "data": {
      "image/png": "[encoded data removed]",
      "text/plain": [
       "<Figure size 432x288 with 1 Axes>"
      ]
     },
     "metadata": {
      "needs_background": "light"
     },
     "output_type": "display_data"
    }
   ],
   "source": [
    "# plotting the ROC curve\n",
    "%matplotlib inline  \n",
    "plt.ylabel('True Positive Rate')\n",
    "plt.xlabel('False Positive Rate')\n",
    "plt.title('ROC')\n",
    "plt.plot(false_positive_rate, true_positive_rate)"
   ]
  },
  {
   "cell_type": "markdown",
   "metadata": {},
   "source": [
    "# 2. Model Building : Bernouli Naive Bayes "
   ]
  },
  {
   "cell_type": "markdown",
   "metadata": {},
   "source": [
    "### **Simply put, Bernoulli Naive Bayes is concerned only with whether the word is present or not in a document, whereas Multinomial Naive Bayes counts the no. of occurrences of the words as well.**"
   ]
  },
  {
   "cell_type": "code",
   "execution_count": 48,
   "metadata": {},
   "outputs": [],
   "source": [
    "from sklearn.naive_bayes import BernoulliNB\n",
    "bnb = BernoulliNB()"
   ]
  },
  {
   "cell_type": "code",
   "execution_count": 49,
   "metadata": {},
   "outputs": [],
   "source": [
    "bnb.fit(X_train_transformed,y_train)\n",
    "y_pred_class = bnb.predict(X_test_transformed)\n",
    "y_pred_class_probability = bnb.predict_proba(X_test_transformed)"
   ]
  },
  {
   "cell_type": "code",
   "execution_count": 50,
   "metadata": {},
   "outputs": [
    {
     "data": {
      "text/plain": [
       "0.9721973094170404"
      ]
     },
     "execution_count": 50,
     "metadata": {},
     "output_type": "execute_result"
    }
   ],
   "source": [
    "from sklearn import metrics\n",
    "metrics.accuracy_score(y_test,y_pred_class)"
   ]
  },
  {
   "cell_type": "code",
   "execution_count": 54,
   "metadata": {},
   "outputs": [
    {
     "data": {
      "text/plain": [
       "BernoulliNB()"
      ]
     },
     "execution_count": 54,
     "metadata": {},
     "output_type": "execute_result"
    }
   ],
   "source": [
    "bnb"
   ]
  },
  {
   "cell_type": "code",
   "execution_count": 56,
   "metadata": {},
   "outputs": [
    {
     "data": {
      "text/plain": [
       "array([[967,   1],\n",
       "       [ 30, 117]], dtype=int64)"
      ]
     },
     "execution_count": 56,
     "metadata": {},
     "output_type": "execute_result"
    }
   ],
   "source": [
    "metrics.confusion_matrix(y_test,y_pred_class)"
   ]
  },
  {
   "cell_type": "code",
   "execution_count": 57,
   "metadata": {},
   "outputs": [
    {
     "name": "stdout",
     "output_type": "stream",
     "text": [
      "sensitivity 0.9319727891156463\n"
     ]
    }
   ],
   "source": [
    "sensitivity = TP / float(FN + TP)\n",
    "print(\"sensitivity\",sensitivity)"
   ]
  },
  {
   "cell_type": "code",
   "execution_count": 58,
   "metadata": {},
   "outputs": [
    {
     "name": "stdout",
     "output_type": "stream",
     "text": [
      "specificity 0.9948347107438017\n"
     ]
    }
   ],
   "source": [
    "specificity = TN / float(TN + FP)\n",
    "print(\"specificity\",specificity)"
   ]
  },
  {
   "cell_type": "code",
   "execution_count": 59,
   "metadata": {},
   "outputs": [
    {
     "name": "stdout",
     "output_type": "stream",
     "text": [
      "precision 0.9647887323943662\n",
      "0.9915254237288136\n"
     ]
    }
   ],
   "source": [
    "precision = TP / float(TP + FP)\n",
    "print(\"precision\",precision)\n",
    "print(metrics.precision_score(y_test, y_pred_class))"
   ]
  },
  {
   "cell_type": "code",
   "execution_count": 60,
   "metadata": {},
   "outputs": [
    {
     "name": "stdout",
     "output_type": "stream",
     "text": [
      "precision 0.9647887323943662\n",
      "0.9915254237288136\n"
     ]
    }
   ],
   "source": [
    "precision = TP / float(TP + FP)\n",
    "print(\"precision\",precision)\n",
    "print(metrics.precision_score(y_test, y_pred_class))"
   ]
  },
  {
   "cell_type": "code",
   "execution_count": 61,
   "metadata": {},
   "outputs": [
    {
     "name": "stdout",
     "output_type": "stream",
     "text": [
      "precision 0.9647887323943662\n",
      "PRECISION SCORE : 0.9915254237288136\n",
      "RECALL SCORE : 0.7959183673469388\n",
      "F1 SCORE : 0.8830188679245283\n"
     ]
    }
   ],
   "source": [
    "print(\"precision\",precision)\n",
    "print(\"PRECISION SCORE :\",metrics.precision_score(y_test, y_pred_class))\n",
    "print(\"RECALL SCORE :\", metrics.recall_score(y_test, y_pred_class))\n",
    "print(\"F1 SCORE :\",metrics.f1_score(y_test, y_pred_class))"
   ]
  },
  {
   "cell_type": "markdown",
   "metadata": {},
   "source": [
    "#### In this case, you wanted the False positives i.e the ham being classified as spam as low as possible which you could achieve by using Bernoulli Naive Bayes classifier even though the overall accuracy and sensitivity was less than Multinomial Naive Bayes classifier."
   ]
  },
  {
   "cell_type": "code",
   "execution_count": null,
   "metadata": {},
   "outputs": [],
   "source": []
  }
 ],
 "metadata": {
  "kernelspec": {
   "display_name": "Python 3",
   "language": "python",
   "name": "python3"
  },
  "language_info": {
   "codemirror_mode": {
    "name": "ipython",
    "version": 3
   },
   "file_extension": ".py",
   "mimetype": "text/x-python",
   "name": "python",
   "nbconvert_exporter": "python",
   "pygments_lexer": "ipython3",
   "version": "3.8.5"
  }
 },
 "nbformat": 4,
 "nbformat_minor": 4
}
